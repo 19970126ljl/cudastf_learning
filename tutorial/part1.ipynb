{
 "cells": [
  {
   "cell_type": "markdown",
   "metadata": {},
   "source": [
    "# CUDASTF 教程 Part 1: 简介与入门\n",
    "\n",
    "## 1. CUDASTF 简介 (Sequential Task Flow, STF)\n",
    "\n",
    "CUDASTF 是一个为 CUDA 实现的**顺序任务流 (STF)** 模型。它通过自动化数据传输和隐式数据依赖，帮助开发者高效地开发多 GPU 并行应用。\n",
    "\n",
    "- 仅头文件 C++ 库，基于 CUDA API\n",
    "- 自动推断任务依赖，生成有向无环图 (DAG)\n",
    "- 支持自动并行化和透明数据管理\n",
    "\n",
    "### 依赖规则\n",
    "| 依赖类型 | 说明 |\n",
    "|---|---|\n",
    "| 写后读 (RAW) | 任务需等待前序写完成后才能读 |\n",
    "| 读后写 (WAR) | 任务需等待前序读完成后才能写 |\n",
    "| 写后写 (WAW) | 两个写同一数据的任务需串行 |\n",
    "| 并发读 | 多个只读任务可并发 |\n",
    "\n",
    "这些规则应用于串行算法后，自动生成任务的 DAG，CUDASTF 利用该 DAG 进行并发调度。\n"
   ]
  },
  {
   "cell_type": "markdown",
   "metadata": {},
   "source": [
    "## 2. CUDASTF 的安装与使用\n",
    "\n",
    "- CUDASTF 属于 CCCL 项目，不随 CUDA Toolkit 分发，可在 [CCCL GitHub](https://github.com/NVIDIA/cccl) 获取。确保您已经克隆了 `cccl` 仓库到 `tutorial` 目录的同级 (即 `stf_exp/cccl`)。\n",
    "- 主要头文件：`#include <cuda/experimental/stf.cuh>`\n",
    "- 命名空间：`cuda::experimental::stf`\n",
    "\n",
    "### 编译示例\n",
    "您可以在本 notebook 所在的目录 (`tutorial/stf/`) 找到示例代码文件，如 `01-axpy.cu` 和 `axpy-annotated.cu`。您可以直接打开这些文件进行修改。\n",
    "\n",
    "使用 nvcc (推荐用于单个文件编译测试)：\n",
    "```sh\n",
    "nvcc -std=c++17 -expt-relaxed-constexpr --extended-lambda -I../cccl/libcudacxx/include -I../cccl/cudax/include ./stf/01-axpy.cu -o 01-axpy -arch=sm_86 -lcuda\n",
    "```\n",
    "* `-I../cccl/libcudacxx/include -I../cccl/cudax/include`: 指定 `libcudacxx` 和 `cudax` (包含 STF) 的头文件路径。这个路径是相对于当前 notebook (`tutorial/stf/`) 的。 \n",
    "* `01-axpy.cu`: 您的源文件名。\n",
    "* `-o 01-axpy`: 输出的可执行文件名。\n",
    "* `-arch=sm_86`: 根据您的 GPU 型号指定计算能力。`sm_86` 对应 NVIDIA Ampere 架构 (如 RTX 30系列)。如果您的GPU型号不同，请修改为相应的计算能力，例如 `sm_75` (Turing), `sm_70` (Volta), `sm_61` (Pascal)。您可以通过 `nvidia-smi` 查看GPU型号，并通过NVIDIA官方文档查询其计算能力。\n",
    "* `-lcuda`: 链接 CUDA runtime 库。\n",
    "\n",
    "使用 CMake (推荐方式，已在 `tutorial/stf/CMakeLists.txt` 中配置，适用于更复杂的项目)：\n",
    "```sh\n",
    "# 确保您在 stf_exp 目录下，并且已经克隆了 cccl 仓库\n",
    "cd ../../ # 从 tutorial/stf/ 返回到 stf_exp/\n",
    "mkdir -p build && cd build\n",
    "cmake .. \n",
    "make cudax.cpp17.example.stf.01-axpy # 根据 CMakeLists.txt 中的目标名编译\n",
    "# 编译成功后，可执行文件通常在 stf_exp/build/examples/stf/ 目录下，例如：\n",
    "# ./examples/stf/cudax.cpp17.example.stf.01-axpy \n",
    "```\n"
   ]
  },
  {
   "cell_type": "markdown",
   "metadata": {},
   "source": [
    "## 3. AXPY 示例详解\n",
    "\n",
    "AXPY (Y = Y + αX) 是线性代数中的基础操作。下面是用 CUDASTF 实现的完整示例。您可以打开本目录下的 [`01-axpy.cu`](./stf/01-axpy.cu) 文件查看和修改。\n"
   ]
  },
  {
   "cell_type": "code",
   "execution_count": null,
   "metadata": {},
   "outputs": [],
   "source": [
    "// 01-axpy.cu (位于当前 notebook 目录下: tutorial/stf/01-axpy.cu)\n",
    "// 您可以直接修改此文件并重新运行下面的编译和执行 cell\n",
    "#include <cuda/experimental/stf.cuh>\n",
    "#include <cassert> // 包含 cassert 以使用 assert\n",
    "#include <cmath>   // 包含 cmath 以使用 std::fabs, std::sin, std::cos\n",
    "#include <cstdio>  // 包含 cstdio 以使用 printf\n",
    "\n",
    "using namespace cuda::experimental::stf;\n",
    "\n",
    "// CUDA Kernel for AXPY operation\n",
    "__global__ void axpy_kernel(double a, slice<const double> x, slice<double> y) {\n",
    "  int tid = blockIdx.x * blockDim.x + threadIdx.x;\n",
    "  int nthreads = gridDim.x * blockDim.x;\n",
    "  for (int i = tid; i < x.size(); i += nthreads) {\n",
    "    y(i) += a * x(i);\n",
    "  }\n",
    "}\n",
    "\n",
    "// Host functions to initialize data\n",
    "double X0(int i) { return std::sin((double)i); } \n",
    "double Y0(int i) { return std::cos((double)i); }\n",
    "\n",
    "int main() {\n",
    "  // 1. Create a CUDASTF context\n",
    "  context ctx;\n",
    "\n",
    "  // 2. Prepare host data\n",
    "  const size_t N = 16; // Size of vectors\n",
    "  double X[N], Y[N];\n",
    "  for (size_t i = 0; i < N; i++) { \n",
    "    X[i] = X0(i); \n",
    "    Y[i] = Y0(i); \n",
    "  }\n",
    "  double alpha = 3.14; // Scalar alpha value\n",
    "\n",
    "  // 3. Create logical data handles for STF\n",
    "  // STF will manage data movement between host and device\n",
    "  auto lX = ctx.logical_data(X); // Wraps host array X\n",
    "  auto lY = ctx.logical_data(Y); // Wraps host array Y\n",
    "\n",
    "  // 4. Submit a task to the context\n",
    "  // lX.read(): X is read-only in this task\n",
    "  // lY.rw(): Y is read-write in this task\n",
    "  ctx.task(lX.read(), lY.rw())->*[&](cudaStream_t s, auto dX, auto dY) {\n",
    "    // This lambda executes on the host and enqueues the CUDA kernel\n",
    "    // s: CUDA stream provided by STF for this task\n",
    "    // dX, dY: device-side slice objects for X and Y, managed by STF\n",
    "    axpy_kernel<<<16, 128, 0, s>>>(alpha, dX, dY);\n",
    "  };\n",
    "\n",
    "  // 5. Finalize the context\n",
    "  // This blocks until all submitted tasks are complete and data is synchronized back to host if needed.\n",
    "  ctx.finalize();\n",
    "\n",
    "  // 6. Verify results on the host\n",
    "  for (size_t i = 0; i < N; i++) {\n",
    "    assert(std::fabs(Y[i] - (Y0(i) + alpha * X0(i))) < 0.0001);\n",
    "    assert(std::fabs(X[i] - X0(i)) < 0.0001); // X should remain unchanged\n",
    "  }\n",
    "  printf(\"01-axpy: Result is correct!\\n\");\n",
    "  \n",
    "  return 0;\n",
    "}\n"
   ]
  },
  {
   "cell_type": "markdown",
   "metadata": {},
   "source": [
    "### 编译与运行 (在 Notebook 的 Cell 中执行)\n",
    "您可以在下面的 cell 中直接编译和运行 `01-axpy.cu`。请确保该文件保存在当前目录且与上面的代码块内容一致。\n"
   ]
  },
  {
   "cell_type": "code",
   "execution_count": 2,
   "metadata": {},
   "outputs": [],
   "source": [
    "!nvcc -std=c++17 -expt-relaxed-constexpr --extended-lambda -I../cccl/libcudacxx/include -I../cccl/cudax/include ./stf/01-axpy.cu -o 01-axpy -arch=sm_86 -lcuda\n",
    "!./01-axpy"
   ]
  },
  {
   "cell_type": "markdown",
   "metadata": {},
   "source": [
    "### 生成任务依赖图\n",
    "在终端中 (或 notebook cell 中加 `!` ) 执行以下命令：\n",
    "```sh\n",
    "CUDASTF_DOT_FILE=axpy.dot ./01-axpy\n",
    "dot -Tpng axpy.dot -o axpy.png\n",
    "```\n",
    "生成的 `axpy.png` 即为任务流依赖图。您可以使用 `![axpy_graph](axpy.png)` 在 markdown cell 中显示图片 (如果图片已生成在 notebook 同目录下，且 notebook信任该 markdown)。\n"
   ]
  },
  {
   "cell_type": "code",
   "execution_count": 3,
   "metadata": {},
   "outputs": [],
   "source": [
    "!CUDASTF_DOT_FILE=axpy.dot ./01-axpy\n",
    "!dot -Tpng axpy.dot -o axpy.png"
   ]
  },
  {
   "cell_type": "markdown",
   "metadata": {},
   "source": [
    "![axpy_graph](axpy.png)"
   ]
  },
  {
   "cell_type": "markdown",
   "metadata": {},
   "source": [
    "## 4. 进阶：带注释的 AXPY 示例\n",
    "\n",
    "可以为 `logical_data` 和 `task` 添加 `set_symbol(\"name\")`，便于调试和可视化。您可以打开本目录下的 [`axpy-annotated.cu`](./stf/axpy-annotated.cu) 文件查看和修改。\n"
   ]
  },
  {
   "cell_type": "code",
   "execution_count": null,
   "metadata": {},
   "outputs": [],
   "source": [
    "// axpy-annotated.cu (位于当前 notebook 目录下: tutorial/stf/axpy-annotated.cu)\n",
    "// 您可以直接修改此文件并重新运行下面的编译和执行 cell\n",
    "#include <cuda/experimental/stf.cuh>\n",
    "#include <cassert> // 包含 cassert 以使用 assert\n",
    "#include <cmath>   // 包含 cmath 以使用 std::fabs, std::sin, std::cos\n",
    "#include <cstdio>  // 包含 cstdio 以使用 printf\n",
    "\n",
    "using namespace cuda::experimental::stf;\n",
    "\n",
    "// CUDA Kernel for AXPY operation (same as before)\n",
    "__global__ void axpy_kernel_annotated(double a, slice<const double> x, slice<double> y) {\n",
    "  int tid = blockIdx.x * blockDim.x + threadIdx.x;\n",
    "  int nthreads = gridDim.x * blockDim.x;\n",
    "  for (int i = tid; i < x.size(); i += nthreads) {\n",
    "    y(i) += a * x(i);\n",
    "  }\n",
    "}\n",
    "\n",
    "// Host functions to initialize data\n",
    "double X0_annotated(int i) { return std::sin((double)i); } \n",
    "double Y0_annotated(int i) { return std::cos((double)i); }\n",
    "\n",
    "int main() {\n",
    "  context ctx;\n",
    "  const size_t N = 16;\n",
    "  double X[N], Y[N];\n",
    "  for (size_t i = 0; i < N; i++) { \n",
    "    X[i] = X0_annotated(i); \n",
    "    Y[i] = Y0_annotated(i); \n",
    "  }\n",
    "  double alpha = 3.14;\n",
    "\n",
    "  // Create logical data handles with symbols for visualization\n",
    "  auto lX = ctx.logical_data(X).set_symbol(\"X_Input_Data\");\n",
    "  auto lY = ctx.logical_data(Y).set_symbol(\"Y_InputOutput_Data\");\n",
    "\n",
    "  // Submit a task with a symbol for visualization\n",
    "  ctx.task(lX.read(), lY.rw()).set_symbol(\"AXPY_Computation_Task\")->*[&](cudaStream_t s, auto dX, auto dY) {\n",
    "    axpy_kernel_annotated<<<16, 128, 0, s>>>(alpha, dX, dY);\n",
    "  };\n",
    "\n",
    "  ctx.finalize();\n",
    "\n",
    "  // Verify results\n",
    "  for (size_t i = 0; i < N; i++) {\n",
    "    assert(std::fabs(Y[i] - (Y0_annotated(i) + alpha * X0_annotated(i))) < 0.0001);\n",
    "    assert(std::fabs(X[i] - X0_annotated(i)) < 0.0001);\n",
    "  }\n",
    "  printf(\"axpy-annotated: Result is correct!\\n\");\n",
    "  \n",
    "  return 0;\n",
    "}\n"
   ]
  },
  {
   "cell_type": "markdown",
   "metadata": {},
   "source": [
    "### 编译与运行 (在 Notebook 的 Cell 中执行)\n",
    "您可以直接在下面的 cell 中编译和运行 [`axpy-annotated.cu`](./stf/axpy-annotated.cu)。\n"
   ]
  },
  {
   "cell_type": "code",
   "execution_count": 4,
   "metadata": {},
   "outputs": [],
   "source": [
    "!nvcc -std=c++17 -expt-relaxed-constexpr --extended-lambda -I../cccl/libcudacxx/include -I../cccl/cudax/include ./stf/axpy-annotated.cu -o axpy-annotated -arch=sm_86 -lcuda\n",
    "!./axpy-annotated"
   ]
  },
  {
   "cell_type": "markdown",
   "metadata": {},
   "source": [
    "### 生成带 symbol 的任务图\n",
    "```sh\n",
    "CUDASTF_DOT_FILE=axpy_annotated.dot ./axpy-annotated\n",
    "dot -Tpng axpy_annotated.dot -o axpy_annotated.png\n",
    "```\n",
    "\n",
    "你可以用图片查看工具打开 [`axpy_annotated.png`](./axpy-annotated.png)，观察任务和数据的 symbol 标注。\n",
    "*(如果图片已生成，可以在此 markdown cell 中使用 `![axpy_annotated_graph](axpy_annotated.png)` 显示)*\n",
    "\n"
   ]
  },
  {
   "cell_type": "code",
   "execution_count": 5,
   "metadata": {},
   "outputs": [],
   "source": [
    "!CUDASTF_DOT_FILE=axpy_annotated.dot ./axpy-annotated\n",
    "!dot -Tpng axpy_annotated.dot -o axpy_annotated.png"
   ]
  },
  {
   "cell_type": "markdown",
   "metadata": {},
   "source": [
    "![axpy_annotated_graph](axpy_annotated.png)"
   ]
  }
 ],
 "metadata": {
  "kernelspec": {
   "display_name": "base",
   "language": "python",
   "name": "python3"
  },
  "language_info": {
   "codemirror_mode": {
    "name": "ipython",
    "version": 3
   },
   "file_extension": ".py",
   "mimetype": "text/x-python",
   "name": "python",
   "nbconvert_exporter": "python",
   "pygments_lexer": "ipython3",
   "version": "3.12.9"
  }
 },
 "nbformat": 4,
 "nbformat_minor": 2
}
